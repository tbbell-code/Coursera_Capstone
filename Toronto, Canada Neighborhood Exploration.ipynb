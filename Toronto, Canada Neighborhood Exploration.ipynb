{
    "nbformat_minor": 1, 
    "cells": [
        {
            "source": "# Exploring and Clustering the Neighborhoods in Toronto, Canada", 
            "cell_type": "markdown", 
            "metadata": {
                "collapsed": true
            }
        }, 
        {
            "execution_count": 40, 
            "cell_type": "code", 
            "metadata": {}, 
            "outputs": [], 
            "source": "# importing libraries\nimport pandas as pd\nimport numpy as np\nfrom bs4 import BeautifulSoup\nimport requests"
        }, 
        {
            "execution_count": 41, 
            "cell_type": "code", 
            "metadata": {}, 
            "outputs": [
                {
                    "output_type": "stream", 
                    "name": "stdout", 
                    "text": "Beautiful Soup\n"
                }
            ], 
            "source": "# source of data\nwikipedia ='https://en.wikipedia.org/wiki/List_of_postal_codes_of_Canada:_M'\nraw_wikipedia_page= requests.get(wikipedia).text\n\n# leveraging beautiful soup to parse the HTML/XML codes.\nsoup = BeautifulSoup(raw_wikipedia_page,'xml')\nprint(\"Beautiful Soup\")"
        }, 
        {
            "source": "# Extracting Raw Table from Wikipedia", 
            "cell_type": "markdown", 
            "metadata": {}
        }, 
        {
            "execution_count": 54, 
            "cell_type": "code", 
            "metadata": {}, 
            "outputs": [], 
            "source": "table = soup.find('table')\n\nPostcode      = []\nBorough       = []\nNeighborhood  = []\n\n# print(table)\n\n# extracting cleaned form of the table\nfor tr_cell in table.find_all('tr'):\n    \n    counter = 1\n    Postcode_var      = -1\n    Borough_var       = -1\n    Neighborhood_var  = -1\n    \n    for td_cell in tr_cell.find_all('td'):\n        if counter == 1: \n            Postcode_var = td_cell.text\n        if counter == 2: \n            Borough_var = td_cell.text\n            tag_a_Borough = td_cell.find('a')\n            \n        if counter == 3: \n            Neighborhood_var = str(td_cell.text).strip()\n            tag_a_Neighborhood = td_cell.find('a')\n            \n        counter +=1\n        \n    if (Postcode_var == 'Not assigned' or Borough_var == 'Not assigned' or Neighborhood_var == 'Not assigned'): \n        continue\n    try:\n        if ((tag_a_Borough is None) or (tag_a_Neighborhood is None)):\n            continue\n    except:\n        pass\n    if(Postcode_var == -1 or Borough_var == -1 or Neighborhood_var == -1):\n        continue\n        \n    Postcode.append(Postcode_var)\n    Borough.append(Borough_var)\n    Neighborhood.append(Neighborhood_var)"
        }, 
        {
            "source": "# Combining Postal Code ", 
            "cell_type": "markdown", 
            "metadata": {}
        }, 
        {
            "execution_count": 55, 
            "cell_type": "code", 
            "metadata": {}, 
            "outputs": [
                {
                    "output_type": "stream", 
                    "name": "stdout", 
                    "text": "Number of Unique Postal Codes: 77\n"
                }
            ], 
            "source": "unique_p = set(Postcode)\nprint('Number of Unique Postal Codes:', len(unique_p))\nPostcode_u      = []\nBorough_u       = []\nNeighborhood_u  = []\n\nfor postcode_unique_element in unique_p:\n    p_var = ''; b_var = ''; n_var = ''; \n    for postcode_idx, postcode_element in enumerate(Postcode):\n        if postcode_unique_element == postcode_element:\n            p_var = postcode_element;\n            b_var = Borough[postcode_idx]\n            if n_var == '': \n                n_var = Neighborhood[postcode_idx]\n            else:\n                n_var = n_var + ', ' + Neighborhood[postcode_idx]\n    Postcode_u.append(p_var)\n    Borough_u.append(b_var)\n    Neighborhood_u.append(n_var)"
        }, 
        {
            "source": "# Creating Padas Dataframe", 
            "cell_type": "markdown", 
            "metadata": {}
        }, 
        {
            "execution_count": 49, 
            "cell_type": "code", 
            "metadata": {}, 
            "outputs": [
                {
                    "execution_count": 49, 
                    "metadata": {}, 
                    "data": {
                        "text/html": "<div>\n<style scoped>\n    .dataframe tbody tr th:only-of-type {\n        vertical-align: middle;\n    }\n\n    .dataframe tbody tr th {\n        vertical-align: top;\n    }\n\n    .dataframe thead th {\n        text-align: right;\n    }\n</style>\n<table border=\"1\" class=\"dataframe\">\n  <thead>\n    <tr style=\"text-align: right;\">\n      <th></th>\n      <th>Postcode</th>\n      <th>Borough</th>\n      <th>Neighborhood</th>\n    </tr>\n  </thead>\n  <tbody>\n    <tr>\n      <th>0</th>\n      <td>M6J</td>\n      <td>West Toronto</td>\n      <td>Little Portugal, Trinity</td>\n    </tr>\n    <tr>\n      <th>1</th>\n      <td>M5P</td>\n      <td>Central Toronto</td>\n      <td>Forest Hill North</td>\n    </tr>\n    <tr>\n      <th>2</th>\n      <td>M4A</td>\n      <td>North York</td>\n      <td>Victoria Village</td>\n    </tr>\n    <tr>\n      <th>3</th>\n      <td>M4C</td>\n      <td>East York</td>\n      <td>Woodbine Heights</td>\n    </tr>\n    <tr>\n      <th>4</th>\n      <td>M6H</td>\n      <td>West Toronto</td>\n      <td>Dovercourt Village</td>\n    </tr>\n    <tr>\n      <th>5</th>\n      <td>M8V</td>\n      <td>Etobicoke</td>\n      <td>New Toronto</td>\n    </tr>\n    <tr>\n      <th>6</th>\n      <td>M6L</td>\n      <td>North York</td>\n      <td>Downsview</td>\n    </tr>\n    <tr>\n      <th>7</th>\n      <td>M1E</td>\n      <td>Scarborough</td>\n      <td>Morningside, West Hill</td>\n    </tr>\n    <tr>\n      <th>8</th>\n      <td>M4W</td>\n      <td>Downtown Toronto</td>\n      <td>Rosedale</td>\n    </tr>\n    <tr>\n      <th>9</th>\n      <td>M1N</td>\n      <td>Scarborough</td>\n      <td>Birch Cliff</td>\n    </tr>\n    <tr>\n      <th>10</th>\n      <td>M4Y</td>\n      <td>Downtown Toronto</td>\n      <td>Church and Wellesley</td>\n    </tr>\n    <tr>\n      <th>11</th>\n      <td>M5X</td>\n      <td>Downtown Toronto</td>\n      <td>First Canadian Place, Underground city</td>\n    </tr>\n    <tr>\n      <th>12</th>\n      <td>M5C</td>\n      <td>Downtown Toronto</td>\n      <td>St. James Town</td>\n    </tr>\n    <tr>\n      <th>13</th>\n      <td>M5J</td>\n      <td>Downtown Toronto</td>\n      <td>Toronto Islands, Union Station</td>\n    </tr>\n  </tbody>\n</table>\n</div>", 
                        "text/plain": "   Postcode           Borough                            Neighborhood\n0       M6J      West Toronto                Little Portugal, Trinity\n1       M5P   Central Toronto                       Forest Hill North\n2       M4A        North York                        Victoria Village\n3       M4C         East York                        Woodbine Heights\n4       M6H      West Toronto                      Dovercourt Village\n5       M8V         Etobicoke                             New Toronto\n6       M6L        North York                               Downsview\n7       M1E       Scarborough                  Morningside, West Hill\n8       M4W  Downtown Toronto                                Rosedale\n9       M1N       Scarborough                             Birch Cliff\n10      M4Y  Downtown Toronto                    Church and Wellesley\n11      M5X  Downtown Toronto  First Canadian Place, Underground city\n12      M5C  Downtown Toronto                          St. James Town\n13      M5J  Downtown Toronto          Toronto Islands, Union Station"
                    }, 
                    "output_type": "execute_result"
                }
            ], 
            "source": "Toronto_dict = {'Postcode':Postcode_u, 'Borough':Borough_u, 'Neighborhood':Neighborhood_u}\ndf_Toronto = pd.DataFrame.from_dict(Toronto_dict)\ndf_Toronto.to_csv('Toronto_part1.csv')\ndf_Toronto.head(14)"
        }, 
        {
            "source": "# Number of Rows in Dataframe", 
            "cell_type": "markdown", 
            "metadata": {}
        }, 
        {
            "execution_count": 50, 
            "cell_type": "code", 
            "metadata": {}, 
            "outputs": [
                {
                    "execution_count": 50, 
                    "metadata": {}, 
                    "data": {
                        "text/plain": "(77, 3)"
                    }, 
                    "output_type": "execute_result"
                }
            ], 
            "source": "df_Toronto.shape"
        }
    ], 
    "metadata": {
        "kernelspec": {
            "display_name": "Python 3.6", 
            "name": "python3", 
            "language": "python"
        }, 
        "language_info": {
            "mimetype": "text/x-python", 
            "nbconvert_exporter": "python", 
            "version": "3.6.8", 
            "name": "python", 
            "file_extension": ".py", 
            "pygments_lexer": "ipython3", 
            "codemirror_mode": {
                "version": 3, 
                "name": "ipython"
            }
        }
    }, 
    "nbformat": 4
}