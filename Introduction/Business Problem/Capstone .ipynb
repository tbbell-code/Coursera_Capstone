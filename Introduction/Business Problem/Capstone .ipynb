{
    "nbformat_minor": 1, 
    "cells": [
        {
            "source": "# Executive Dining Options in Sunrise, FL", 
            "cell_type": "markdown", 
            "metadata": {
                "collapsed": true
            }
        }, 
        {
            "source": "### Introduction:\n\nSunrise, FL is an important location for American Express and it is oftentimes a stop for visiting executives of many different business units. \n\n### Business Problem:\n\nSince many New York-based American Express colleagues travel to our Sunrise office for meetings and team building activities, I have been tasked with finding reputable and tasty restaurants nearby for meals after work. In addition, my colleagues have asked me to recommend noteworthy dishes at the restaurant.  \n\n### Data Required:\n\nBy leveraging Foursquare API data, I will pull the following restaurant information in Sunrise:\n\nVenue Names,\nVenue IDs,\nVenue Location,\nVenue Category,\nVenue Tips\n\n### Methodology:\n\nTo acquire the above-mentioned details, I will need to do the following:\n\nGet geolocator latitude and longitude coordinates for Sunrise\nFoursquare API data to populate a list of venues in Sunrise \nVenue names, venue IDs, locations, categories, and tips\n\n\n### Results\n\nI will determine the most appropriate dining options to recommend along with maps to visualize the data. ", 
            "cell_type": "markdown", 
            "metadata": {}
        }, 
        {
            "execution_count": null, 
            "cell_type": "code", 
            "metadata": {}, 
            "outputs": [], 
            "source": ""
        }
    ], 
    "metadata": {
        "kernelspec": {
            "display_name": "Python 3.6", 
            "name": "python3", 
            "language": "python"
        }, 
        "language_info": {
            "mimetype": "text/x-python", 
            "nbconvert_exporter": "python", 
            "version": "3.6.8", 
            "name": "python", 
            "file_extension": ".py", 
            "pygments_lexer": "ipython3", 
            "codemirror_mode": {
                "version": 3, 
                "name": "ipython"
            }
        }
    }, 
    "nbformat": 4
}