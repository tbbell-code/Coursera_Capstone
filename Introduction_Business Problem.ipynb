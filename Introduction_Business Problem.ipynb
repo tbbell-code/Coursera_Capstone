{
    "nbformat_minor": 1, 
    "cells": [
        {
            "source": "# Local Wealthy Residents in Need of Reputable Animal Hospital in Washington Heights, Manhattan", 
            "cell_type": "markdown", 
            "metadata": {
                "collapsed": true
            }
        }, 
        {
            "source": "The Problem: Perturbed residents of Washington Heights, Manhattan are unimpressed with local offerings of routine and urgent pet care options for their four legged companions--mentioning that the quality of care at nearby facilities is marginal and inconsistent at best. Furthermore, the consensus at a recent community board meeting determined Dobbs Ferry Animal Hospital in Dobbs Ferry, New York to be the closest agreed upon pet care center of choice; albeit difficult to get to without renting or borrowing a vehicle. In addition, residents agreed that services such as Uber/Lyft employee drivers reluctant to transport animals to appointments. And to top it off, the MTA (New York City Transit) forbids animals on the subway with the exception of service pets thereby leaving residents few transportation options. So, one resident proposed that the community board members pool their resources to lure a top veterinarian to the local area to open an animal hospital which is high quality and nearby. ", 
            "cell_type": "markdown", 
            "metadata": {}
        }, 
        {
            "source": "Method for Solution: By leveraging Foursquare location data, I will execute my idea and solve this dilemma to satisfy the needs of local pet owners and residents. I will examine the types of existing businesses in the neighborhood (including local veterinarians) to determine the optimal location in Washington Heights, Manhattan for this new facility. ", 
            "cell_type": "markdown", 
            "metadata": {}
        }, 
        {
            "execution_count": null, 
            "cell_type": "code", 
            "metadata": {}, 
            "outputs": [], 
            "source": ""
        }
    ], 
    "metadata": {
        "kernelspec": {
            "display_name": "Python 3.6", 
            "name": "python3", 
            "language": "python"
        }, 
        "language_info": {
            "mimetype": "text/x-python", 
            "nbconvert_exporter": "python", 
            "version": "3.6.8", 
            "name": "python", 
            "file_extension": ".py", 
            "pygments_lexer": "ipython3", 
            "codemirror_mode": {
                "version": 3, 
                "name": "ipython"
            }
        }
    }, 
    "nbformat": 4
}